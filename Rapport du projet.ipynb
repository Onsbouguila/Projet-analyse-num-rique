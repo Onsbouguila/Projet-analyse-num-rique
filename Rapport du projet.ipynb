{
 "cells": [
  {
   "cell_type": "markdown",
   "metadata": {},
   "source": [
    " <img src=\"Image/is.png\" alt=\"Méthode des Rectangles Gauche\" width=\"150\" align=\"right\" /><h4 style=\"color:#d1d1e0\" align=\"left\"> Institut Supérieur d'Informatique et des Technologies de Communication de Hammam Sousse</h4>\n",
    "\n",
    "<br><br> <br>\n",
    "<center> <h1 style=\"color:#0066ff\"> Projet d'analyse numérique </h1>\n",
    "<h1 style=\"color:#33cc33\"> Calcul d'intégrale</h1><br><br>\n",
    "<h3 style=\"color:#47476b\"> Réalisé par: Bouguila Ons  </h3>\n",
    "<h3 style=\"color:#47476b\"> Enseignant: Khmaïs Abdallah  </h3>\n",
    "<img src=\"ana.png\" alt=\"Méthode des Rectangles Gauche\" width=\"350\"  /> </center>\n",
    "<h4 style=\"color:#d1d1e0\" align=\"right\"> année universitaire : 2021-2022</h4>"
   ]
  },
  {
   "cell_type": "markdown",
   "metadata": {},
   "source": [
    "<h1 style=\"color:#00cc00\"> Introduction générale </h1> <a class=\"anchor\" id=\"Introduction\"></a>"
   ]
  },
  {
   "cell_type": "markdown",
   "metadata": {},
   "source": [
    "<p> L’analyse numérique a commencé bien avant la conception des ordinateurs et leur utilisation quotidienne que nous connaissons aujourd’hui. Les premières méthodes ont été développées pour essayer de trouver des moyens rapides et efficaces de s’attaquer à des problèmes\n",
    "soit fastidieux à résoudre à cause de leur grande dimension ), soit parce qu’il n’existe pas solutions explicites connues même\n",
    "pour certaines équations assez simples en apparence.</p>  <p>Dès que les premiers ordinateurs sont apparus, ce domaine des mathématiques a pris son envol et continue encore à se développer de façon très soutenue. </p> <p> Les applications extraordinairement nombreuses sont entrées dans notre vie quotidienne directement ou indirectement. Nous les utilisons désormais sans nous en rendre compte mais\n",
    "surtout en ignorant la plupart du temps toute la théorie, l’expertise, le développement des\n",
    "compétences et l’ingéniosité des chercheurs pour en arriver là. <p>\n",
    "<p> Il est très difficile, voire souvent impossible de trouver les primitives d’une fonction. Et\n",
    "donc, de calculer l’intégrale d’une fonction sur un intervalle. Pourtant, dans de nombreuses\n",
    "applications en physique, en chimie, en biologie il est nécessaire d’estimer ces intégrales. </p>\n",
    " <p>Il est donc essentiel de trouver des moyens pour évaluer ces intégrales sans connaître explicitement les expressions des primitives</p>\n",
    " <p>La principale mission de mon mini projet est de cinstruire une application qui facilite le calcule d'intégrale par des différents méthodes, et qui donne le taux d'erreur de chaque méthode.</p>\n",
    " <p>L’objectif de cette application est donc de donner des méthodes permettant d’approcher les intégrales. C’est ce qu’on appelle en mathématiques, la quadrature. A l’origine, la quadrature\n",
    "d’une surface est la recherche d’un carré ayant même aire que la surface en question. C’est\n",
    "devenu par extension le calcul d’une intégrale.\n",
    "Parmi les méthodes les plus connues, les plus intuitives qui permettent de construire les intégrales\n",
    " la méthode des rectangles, la méthodes de simpson, la méthode de trapézes et la méthode de point milieu.</p>"
   ]
  },
  {
   "cell_type": "markdown",
   "metadata": {},
   "source": [
    "<h2 style=\"color:#00cc00\"> Structure du rapport</h2>\n",
    "<p> Ce rapport est composé de trois chapitres :</p>\n",
    "<p> Le premier chapitre est consacré au problématique et à objectif du projet. </p>\n",
    "<p>Le deuxième chapitre est consacré à l'étude des différents méthodes developpés dans l'application. </p>\n",
    "<p>Le 3ème chapitre consiste à la phase de réalisation de l'application. </p>\n",
    "<p>Finalement, nous terminons notre rapport par une conclusion générale. </p>"
   ]
  },
  {
   "cell_type": "markdown",
   "metadata": {},
   "source": [
    "<h1 style=\"color:#00cc00\"> Table de matière</h1>"
   ]
  },
  {
   "cell_type": "markdown",
   "metadata": {},
   "source": [
    "1. [Introduction....................................................................................................................................................](#Introduction)\n",
    "2. [Chapitre 1...........................................................................................................................................................](#chap1)\n",
    "    1. [Problématique..................................................................................................................................................](#subparagraph1)\n",
    "    2. [2.Application existante......................................................................................................................](#app)\n",
    "    3. [3.Solution proposée....................................................................................................................................](#sol)\n",
    "2. [chapitre 2 : Etude des méthodes developpés..........................................................................................................](#chap2)\n",
    "    1. [1.Méthode de Trapèze......................................................................................................................................](#trapéze)\n",
    "    2. [2.Méthode de Rectangle........................................................................................................................................](#Rectangle)\n",
    "    3. [3.Méthode de Simpson..............................................................................................................................](#Simpson)\n",
    "    4. [4.Méthode de point milieu.................................................................................................................................](#milieu)\n",
    "3. [chapitre 3 : Réalisation..................................................................................................................................................](#chap3)\n",
    "    1. [1.Environnement logiciel.................................................................................................................................](#logiciel)\n",
    "    2. [2.Langage utilisé...............................................................................................................................................](#langage)\n",
    "    3. [3.Simulation du projet........................................................................................................................................](#simulation)\n",
    "4. [Conclusion.................................................................................................................................................................](#conclusion)\n",
    "    "
   ]
  },
  {
   "cell_type": "markdown",
   "metadata": {},
   "source": [
    "<h1 style=\"color:#00cc00\" > Chapitre 1 :</h1> <a class=\"anchor\" id=\"chap1\"></a>\n"
   ]
  },
  {
   "cell_type": "markdown",
   "metadata": {},
   "source": [
    "\n",
    "<h3 style=\"color:#ff9933\">Problématique </h3> <a class=\"anchor\" id=\"subparagraph1\"></a>\n",
    "<p> Il est très difficile, voire souvent impossible de trouver les primitives d’une fonction. Et donc, de calculer l’intégrale d’une fonction sur un intervalle. Pourtant, dans de nombreuses applications en physique, en chimie, en biologie il est nécessaire d’estimer ces intégrales.  Pourtant, dans de nombreuses\n",
    "applications en physique, en chimie, en biologie il est nécessaire d’estimer ces intégrales. Par\n",
    "exemple, en dynamique de population, l’intégrale entre l’âge a = 0 jusqu’à l’âge maximum\n",
    "amax (qui pourrait être estimé à 130 ans), en un instant t d’une fonction f dépendant de a\n",
    "permet d’évaluer en un temps t, une population totale observée suivant tous les âges. C’est\n",
    "ce qui permet de voir évoluer par exemple la pyramide des âges au cours du temps.</p> <p>Il est donc essentiel de trouver des moyens pour évaluer ces intégrales sans connaître explicitement les expressions des primitives.\n",
    "</p>\n",
    "\n",
    "   \n",
    " "
   ]
  },
  {
   "cell_type": "markdown",
   "metadata": {},
   "source": [
    "<h3 style=\"color:#cc66ff\">Application existante </h3> <a class=\"anchor\" id=\"app\"></a>\n",
    "\n",
    "<img src=\"Image/app1.png\" alt=\"Méthode des Rectangles Gauche\" width=\"450\"  /> </center> <br><br>\n",
    "<h3 style=\"color:#cc66ff\">Critique de l'éxistant </h3>\n",
    "<p>Suite aux remarques que j'ai fait à l'application existante, j'ai trouvé qu'elle présente les limites suivants:</p>\n",
    "<p> - L'interface n'est pas bien organisé, les titres sont mélangés. </p>\n",
    "<p> - La fonction est statique l'utilisateur ne peut pas saisir la fonction qu'il souhaite y avoir les résultats. </p>\n",
    "<p> - De même pour la longeur de l'intervalle [a,b] et le nombre n, l'utilisateur ne peut pas les changers. </p>\n",
    "<p> - L'application ne donnne pas la valeur exacte de l'intégrale. </p>\n",
    "<p> - L'application ne donne pas le taux d'erreur de chaque méthode. </p>"
   ]
  },
  {
   "cell_type": "markdown",
   "metadata": {},
   "source": [
    "<h3 style=\"color:#cc66ff\">Solution proposé </h3> <a class=\"anchor\" id=\"sol\"></a>\n",
    "<p>L'application que j'ai réalisé réponds au besoins de l'utilisateur qui consiste à :</p>\n",
    "<p> - Calculer l'intégrale de différents fonctions par les différents méthodes rectangle, simpson, point milieu et méthode de trapéze </p>\n",
    "<p> - L'interface est bien organisé, ergonomique et facile à utiliser par touts les utilisateurs. </p>\n",
    "<p> - La fonction est dynamique, l'utilisateur  peut saisir n'importe quelle fonction qu'il souhaite y avoir les résultats. </p>\n",
    "<p> - De même l'utilisateur peut changer la longeur de l'intervalle [a,b] et le nombre des points n.</p>\n",
    "<p> - L'application donnne  la valeur exacte de l'intégrale pour les différents méthodes. </p>\n",
    "<p> - L'application affiche le taux d'erreur de chaque méthode. </p>"
   ]
  },
  {
   "cell_type": "markdown",
   "metadata": {},
   "source": [
    "<h1 style=\"color:#00cc00\">  chapitre 2 : Etude des méthodes developpés</h1> <a class=\"anchor\" id=\"chap2\"></a>\n",
    "<h5>Il existe de nombreuses méthodes pour réaliser une intégration numérique. Nous allons considérer ici quelques méthodes simples.</h5>\n"
   ]
  },
  {
   "cell_type": "markdown",
   "metadata": {},
   "source": [
    "<h3 style=\"color:#cc66ff\">2.Méthode de Rectangle </h3>  <a class=\"anchor\" id=\"Rectangle\"></a> <br><br> \n",
    "<p>Dans cette méthode, on calcule l’intégrale numérique en réalisant une somme de surfaces de rectangles. Le domaine d’intégration est découpé en intervalles et on fait comme si la fonction restait constante sur chaque intervalle.\n",
    "\n",
    "Sur chaque intervalle, on réalise ainsi l’approximation suivante de l'aire :</p>\n",
    "\n",
    "<h4 style=\"color:#660099 \"> $$\\int_a^b f(t) \\,dt$$  </h4>\n",
    "\n",
    "Par une somme d’aire de rectangles comme le montre la figure ci-contre i.e. On approche f(t) sur [tk, tk+1] par f(tk).\n",
    "    <img src=\"Image/rec.png\" alt=\"Méthode des Rectangles Gauche\" width=\"600\"/>\n",
    "L’aire des rectangles obtenue est :\n",
    "<h4 style=\"color:#660099 \">  $$V.A = \\frac {b-a}n \\sum\\limits _{k=0}^{n-1} f(t_k) $$ </h4>\n",
    "On admet que si f est de classe C1 alors l’erreur commise par la méthode des rectangles est détérminé par l’inégalité suivante :\n",
    " <h4 style=\"color:#660099 \">  $$\\left\\lvert \\int_a^b f(t) \\,dt - V.A \\right\\rvert \\le \\frac {b-a}n Max\\left\\lvert f' \\right\\rvert $$ </h4>"
   ]
  },
  {
   "cell_type": "markdown",
   "metadata": {},
   "source": [
    "<h3 style=\"color:#cc66ff\">2.Méthode de Trapéze </h3>  <a class=\"anchor\" id=\"trapéze\"></a> <br><br>\n",
    "<p>Nous savons à présent que nous pouvons approcher l'aire sous la courbe représentative d'une fonction sur un intervalle donné par la somme des aires de rectangles (somme de Riemann ou méthode des rectangles). Dans la méthode des rectangles, on remplace fff par la valeur qu'elle prend sur une borne de l'intervalle (borne inférieure ou extrémité gauche, borne supérieure ou extrémité droite). Comme on ne voit pas de raison de privilégier l'une des bornes, il est peut-être judicieux d'approximer fff par la moyenne des valeurs qu'elle prend aux deux extrémités de l'intervalle. La moyenne des aires des rectangles est aussi l'aire du trapèze délimité par une fonction affine qui prend les mêmes valeurs que fff aux extrémités. C'est la méthode des trapèzes.</p><p>\n",
    "Idée-clé : En approchant l'aire du domaine par la somme des aires des trapèzes ('' méthode des trapèzes ''), nous obtenons une approximation plus précise de cette aire qu'en approchant l'aire du domaine par la somme des aires des rectangles ('' méthode des rectangles '').</p>\n",
    "En analyse numérique, la méthode des trapèzes est une méthode pour le calcul numérique d'une intégrale. On approche l’aire : <h3 style=\"color:#660099\"> $$\\int_a^b f(t) \\,dt$$  </h3> <br>\n",
    "Comme le montre la figure ci-dessous i.e. on approche f sur [tk, tk+1] par lafonction affine qui coïncide avec f aux points tk et tk+1.\n",
    "<img src=\"Image/tr.png\" alt=\"Méthode des Trapézes\" width=\"350\"/>\n",
    "L’aire des trapèzes obtenue est :\n",
    "<h3 style=\"color:#660099\"> $$V.A = \\frac {b-a}n \\left(\\frac {f(a)+f(b)}2 + \\sum\\limits _{k=0}^{n-1} f(t_k) \\right) $$ </h3>\n",
    "On admet que si f est de classe C1 alors l’erreur commise par la méthode des rectangles est détérminé par l’inégalité suivante :\n",
    "<h3 style=\"color:#660099\"> $$\\left\\lvert \\int_a^b f(t) \\,dt - V.A \\right\\rvert \\le \\frac {(b-a)³}{12n²} Max\\left\\lvert f\" \\right\\rvert $$ </h3>\n",
    "<p>Animation montrant comment la méthode des trapèzes converge vers la valeur exacte lorsque le nombre d’itérations augmente.<p>\n",
    "    <img src=\"video1.gif\" alt=\"Méthode des Trapézes\" width=\"400\"/>"
   ]
  },
  {
   "cell_type": "markdown",
   "metadata": {},
   "source": [
    "<h3 style=\"color:#cc66ff\">3.Méthode de Simpson </h3>  <a class=\"anchor\" id=\"Simpson\"></a><br><br>\n",
    "En analyse numérique, la méthode de Simpson, du nom de Thomas Simpson, est une technique de calcul numérique d'une intégrale, c'est-à-dire, le calcul approché de : \n",
    "  <h3 style=\"color:#660099\">  $$\\int_a^b f(t) \\,dt$$  </h3>\n",
    "  Le défaut évident du calcul approché d'une intégrale par la méthode des trapèzes (et a fortiori par celle, élémentaire, des rectangles) est de remplacer grossièrement un arc de courbe MiMi+1 par le segment [MiMi+1]. Ces méthodes fort simples à programmer restent cependant très imprécises. Simpson apporte une correction très efficace correspondant à la méthode de Newton-Cotes (interpolation de degré 2) :\n",
    " <p style=\"color:#ff8533\">Étude :   </p> <br>\n",
    " La méthode de Simpson consiste à grouper trois points consécutifs de la courbe Mi, Mi+1 et Mi+2 et de remplacer l'arc de courbe passant par ces trois points par un arc de parabole. Notons que si les points Mi, Mi+1 et Mi+2 sont alignés, le calcul des paramètres de la parabole d'équation y = mx2 + px + q, passant par ces points conduira à m = 0. Par suite, quitte à parler de parabole dégénérée, ce cas n'est pas singulier.\n",
    "Comme le montre la figure ci-dessous i.e. La méthode consiste à approcher f sur [tk, tk+1] par la fonction polynomiale de degré 2.\n",
    "\n",
    "<img src=\"Image/s.png\" alt=\"Méthode de Simpson\" width=\"400\"/>\n",
    "L'arc de courbe (C) est remplacé par l'arc de parabole (P) passant par ces trois points. Si le nombre de points de la subdivision est grand, on conçoit que la mesure de l'aire coloriée en jaune est très faible : l'arc (C) coïncide \"pratiquement\" avec (P).\n",
    "L’aire obtenue est :\n",
    "<h3 style=\"color:#660099\"> $$V.A = \\frac {b-a}{6n} \\sum\\limits _{k=0}^{n-1} f(t_k)  \\left(f(t_k)\\frac {f(t_k)+f(t_{k+1})}2 +f(t_{k+1}) \\right) $$ </h3>\n",
    "On admet que si f est de classe C4 alors l’erreur commise par la méthode de Simpson est donné par l’inégalité suivante :\n",
    "<h3 style=\"color:#660099\">  $$\\left\\lvert \\int_a^b f(t) \\,dt - V.A \\right\\rvert \\le \\frac {(b-a)⁵}{2880n⁴} Max\\left\\lvert f⁴ \\right\\rvert $$ </h3>\n"
   ]
  },
  {
   "cell_type": "markdown",
   "metadata": {},
   "source": [
    "<h3 style=\"color:#cc66ff\">4.Méthode de point milieu </h3><a class=\"anchor\" id=\"milieu\"></a> <br><br>\n",
    "C’est la méthode la plus simple qui consiste à interpoler la fonction f à intégrer par une fonction constante (polynôme de degré 0).\n",
    "On approche l’aire : \n",
    "<h3 style=\"color:#ff8533\"> $$\\int_a^b f(t) \\,dt$$ </h3>\n",
    "Comme le montre la figure ci-dessous i.e. La méthode consiste à approcher f sur [tk, tk+1].\n",
    "<img src=\"Image/exp.png\" alt=\"Méthode des Points Milieux\" width=\"600\" align=\"left\"/>\n",
    "<img src=\"Image/mil.png\" alt=\"Méthode des Points Milieux\" width=\"300\" align=\"right\"/><br>\n",
    "\n",
    "\n"
   ]
  },
  {
   "cell_type": "markdown",
   "metadata": {},
   "source": [
    "L’aire des rectangles obtenue est :\n",
    "<h3 style=\"color:#660099\"> $$V.A = \\frac{b-a}n \\sum\\limits _{k=0}^{n-1} f\\left(\\frac{t_k+t_{k+1}}2\\right) $$ </h3>\n",
    "On admet que si f est de classe C4 alors l’erreur commise par la méthode de Simpson est donné par l’inégalité suivante :\n",
    "<h3 style=\"color:#660099\"> $$\\left\\lvert \\int_a^b f(t) \\,dt - V.A \\right\\rvert \\le \\frac {(b-a)³}{24n²} Max\\left\\lvert f\" \\right\\rvert $$ </h3>\n",
    "Ainsi, le choix du point milieu améliore l’ordre de la méthode : celle du rectangle est exacte (c’est-à-dire E(f) = 0) pour les fonctions constantes alors que celle du point milieu est exacte pour les polynômes de degré 1. Ceci s’explique par le fait que l’écart d’intégration de la méthode du point milieu donne lieu à deux erreurs d’évaluation, de valeurs absolues égales et de signes opposés. </p>"
   ]
  },
  {
   "cell_type": "markdown",
   "metadata": {},
   "source": [
    "<h1 style=\"color:#00cc00\"> Chapitre 3 :</h1> <a class=\"anchor\" id=\"chap3\"></a>\n"
   ]
  },
  {
   "cell_type": "markdown",
   "metadata": {},
   "source": [
    "<h3 style=\"color:#ff9933\">Environnement logiciel </h3> <a class=\"anchor\" id=\"logiciel\"></a>\n",
    "Nous abonderons dans cette partie les moyens logiciels utilisés. Les logiciels utlisé pour la réalisation de ce projet ainsi que pour la rédaction du rapport sont : \n",
    "<img src=\"Image/vs.png\" alt=\"Méthode de Simpson\" width=\"50\" align=\"left\"/> \n",
    "<h5>Visual Studio Code  </h5> <br>C'est un éditeur de code extensible développé par Microsoft pour Windows, Linux et macOS. Les fonctionnalités incluent la prise en charge du débogage, la mise en évidence de la syntaxe, la complétion intelligente du code, les snippets, la refactorisation du code et Git intégré."
   ]
  },
  {
   "cell_type": "markdown",
   "metadata": {},
   "source": [
    "<h3 style=\"color:#ff9933\">Langage utilisé </h3> <a class=\"anchor\" id=\"langage\"></a> <br>\n",
    "\n",
    "<img src=\"Image/pth.png\" alt=\"Méthode de Simpson\" width=\"120\" align=\"left\"/> \n",
    "\n",
    "\n",
    "Python est un langage de programmation interprété, multi-paradigme et multiplateformes. Il favorise la programmation impérative structurée, fonctionnelle et orientée objet.  \n",
    "\n",
    "\n",
    "<img src=\"tk.png\" alt=\"Méthode de Simpson\" width=\"70\" align=\"left\"/> \n",
    "<h5>Tkinter</h5>\n",
    "\n",
    "Tkinter est la bibliothèque graphique libre d'origine pour le langage Python, permettant la création d'interfaces graphiques. Elle vient d'une adaptation de la bibliothèque graphique Tk écrite pour Tcl.\n"
   ]
  },
  {
   "cell_type": "markdown",
   "metadata": {},
   "source": [
    "<h3 style=\"color:#ff9933\">Présentation de l interface </h3> <a class=\"anchor\" id=\"simulation\"></a> <br>\n",
    "<img src=\"Image/video3.gif\" alt=\"Simulation\" width=\"1000\" /> \n"
   ]
  },
  {
   "cell_type": "markdown",
   "metadata": {},
   "source": [
    "<h1 style=\"color:#00cc00\"> Conclusion</h1> <a class=\"anchor\" id=\"conclusion\"></a>\n",
    "<p> Pour conclure,tout au long de ce projet j'ai developpé une application ergonomique  qui réponds au besoins spécifiés permettant ainsi de donner des méthodes permettant d’approcher les intégrales. </p>\n",
    "<p>Enfin l'application est facile à utiliser par surtout pour les matématiciens pour réaliser les tâche pour laquelle il a été conçu. </p>"
   ]
  },
  {
   "cell_type": "code",
   "execution_count": null,
   "metadata": {},
   "outputs": [],
   "source": []
  }
 ],
 "metadata": {
  "kernelspec": {
   "display_name": "Python 3",
   "language": "python",
   "name": "python3"
  },
  "language_info": {
   "codemirror_mode": {
    "name": "ipython",
    "version": 3
   },
   "file_extension": ".py",
   "mimetype": "text/x-python",
   "name": "python",
   "nbconvert_exporter": "python",
   "pygments_lexer": "ipython3",
   "version": "3.8.3"
  }
 },
 "nbformat": 4,
 "nbformat_minor": 4
}
